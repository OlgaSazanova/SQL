{
 "cells": [
  {
   "cell_type": "markdown",
   "metadata": {},
   "source": [
    "# Проект по SQL"
   ]
  },
  {
   "cell_type": "markdown",
   "metadata": {},
   "source": [
    "## Цель исследования:\n",
    "Проанализировать базу данных крупного сервиса для чтения книг по подписке, чтобы сформулировать ценностное предложение для нового продукта"
   ]
  },
  {
   "cell_type": "markdown",
   "metadata": {},
   "source": [
    "## Выведем первые строки каждой из таблиц"
   ]
  },
  {
   "cell_type": "code",
   "execution_count": 1,
   "metadata": {},
   "outputs": [],
   "source": [
    "# импортируем библиотеки\n",
    "import pandas as pd\n",
    "from sqlalchemy import create_engine"
   ]
  },
  {
   "cell_type": "code",
   "execution_count": 2,
   "metadata": {},
   "outputs": [],
   "source": [
    "\n",
    "# устанавливаем параметры\n",
    "db_config = {'user': 'praktikum_student', # имя пользователя\n",
    "'pwd': 'Sdf4$2;d-d30pp', # пароль\n",
    "'host': 'rc1b-wcoijxj3yxfsf3fs.mdb.yandexcloud.net',\n",
    "'port': 6432, # порт подключения\n",
    "'db': 'data-analyst-final-project-db'} # название базы данных\n",
    "connection_string = 'postgresql://{}:{}@{}:{}/{}'.format(db_config['user'],\n",
    " db_config['pwd'],\n",
    " db_config['host'],\n",
    " db_config['port'],\n",
    " db_config['db'])\n"
   ]
  },
  {
   "cell_type": "code",
   "execution_count": 3,
   "metadata": {},
   "outputs": [],
   "source": [
    "# сохраняем коннектор\n",
    "engine = create_engine(connection_string, connect_args={'sslmode':'require'}) "
   ]
  },
  {
   "cell_type": "code",
   "execution_count": 4,
   "metadata": {},
   "outputs": [
    {
     "data": {
      "text/html": [
       "<div>\n",
       "<style scoped>\n",
       "    .dataframe tbody tr th:only-of-type {\n",
       "        vertical-align: middle;\n",
       "    }\n",
       "\n",
       "    .dataframe tbody tr th {\n",
       "        vertical-align: top;\n",
       "    }\n",
       "\n",
       "    .dataframe thead th {\n",
       "        text-align: right;\n",
       "    }\n",
       "</style>\n",
       "<table border=\"1\" class=\"dataframe\">\n",
       "  <thead>\n",
       "    <tr style=\"text-align: right;\">\n",
       "      <th></th>\n",
       "      <th>book_id</th>\n",
       "      <th>author_id</th>\n",
       "      <th>title</th>\n",
       "      <th>num_pages</th>\n",
       "      <th>publication_date</th>\n",
       "      <th>publisher_id</th>\n",
       "    </tr>\n",
       "  </thead>\n",
       "  <tbody>\n",
       "    <tr>\n",
       "      <th>0</th>\n",
       "      <td>1</td>\n",
       "      <td>546</td>\n",
       "      <td>'Salem's Lot</td>\n",
       "      <td>594</td>\n",
       "      <td>2005-11-01</td>\n",
       "      <td>93</td>\n",
       "    </tr>\n",
       "    <tr>\n",
       "      <th>1</th>\n",
       "      <td>2</td>\n",
       "      <td>465</td>\n",
       "      <td>1 000 Places to See Before You Die</td>\n",
       "      <td>992</td>\n",
       "      <td>2003-05-22</td>\n",
       "      <td>336</td>\n",
       "    </tr>\n",
       "    <tr>\n",
       "      <th>2</th>\n",
       "      <td>3</td>\n",
       "      <td>407</td>\n",
       "      <td>13 Little Blue Envelopes (Little Blue Envelope...</td>\n",
       "      <td>322</td>\n",
       "      <td>2010-12-21</td>\n",
       "      <td>135</td>\n",
       "    </tr>\n",
       "    <tr>\n",
       "      <th>3</th>\n",
       "      <td>4</td>\n",
       "      <td>82</td>\n",
       "      <td>1491: New Revelations of the Americas Before C...</td>\n",
       "      <td>541</td>\n",
       "      <td>2006-10-10</td>\n",
       "      <td>309</td>\n",
       "    </tr>\n",
       "    <tr>\n",
       "      <th>4</th>\n",
       "      <td>5</td>\n",
       "      <td>125</td>\n",
       "      <td>1776</td>\n",
       "      <td>386</td>\n",
       "      <td>2006-07-04</td>\n",
       "      <td>268</td>\n",
       "    </tr>\n",
       "  </tbody>\n",
       "</table>\n",
       "</div>"
      ],
      "text/plain": [
       "   book_id  author_id                                              title  \\\n",
       "0        1        546                                       'Salem's Lot   \n",
       "1        2        465                 1 000 Places to See Before You Die   \n",
       "2        3        407  13 Little Blue Envelopes (Little Blue Envelope...   \n",
       "3        4         82  1491: New Revelations of the Americas Before C...   \n",
       "4        5        125                                               1776   \n",
       "\n",
       "   num_pages publication_date  publisher_id  \n",
       "0        594       2005-11-01            93  \n",
       "1        992       2003-05-22           336  \n",
       "2        322       2010-12-21           135  \n",
       "3        541       2006-10-10           309  \n",
       "4        386       2006-07-04           268  "
      ]
     },
     "execution_count": 4,
     "metadata": {},
     "output_type": "execute_result"
    }
   ],
   "source": [
    "pd.io.sql.read_sql('''SELECT * \n",
    "                     FROM books\n",
    "                     LIMIT 5''', con = engine) "
   ]
  },
  {
   "cell_type": "code",
   "execution_count": 5,
   "metadata": {},
   "outputs": [
    {
     "data": {
      "text/html": [
       "<div>\n",
       "<style scoped>\n",
       "    .dataframe tbody tr th:only-of-type {\n",
       "        vertical-align: middle;\n",
       "    }\n",
       "\n",
       "    .dataframe tbody tr th {\n",
       "        vertical-align: top;\n",
       "    }\n",
       "\n",
       "    .dataframe thead th {\n",
       "        text-align: right;\n",
       "    }\n",
       "</style>\n",
       "<table border=\"1\" class=\"dataframe\">\n",
       "  <thead>\n",
       "    <tr style=\"text-align: right;\">\n",
       "      <th></th>\n",
       "      <th>author_id</th>\n",
       "      <th>author</th>\n",
       "    </tr>\n",
       "  </thead>\n",
       "  <tbody>\n",
       "    <tr>\n",
       "      <th>0</th>\n",
       "      <td>1</td>\n",
       "      <td>A.S. Byatt</td>\n",
       "    </tr>\n",
       "    <tr>\n",
       "      <th>1</th>\n",
       "      <td>2</td>\n",
       "      <td>Aesop/Laura Harris/Laura Gibbs</td>\n",
       "    </tr>\n",
       "    <tr>\n",
       "      <th>2</th>\n",
       "      <td>3</td>\n",
       "      <td>Agatha Christie</td>\n",
       "    </tr>\n",
       "    <tr>\n",
       "      <th>3</th>\n",
       "      <td>4</td>\n",
       "      <td>Alan Brennert</td>\n",
       "    </tr>\n",
       "    <tr>\n",
       "      <th>4</th>\n",
       "      <td>5</td>\n",
       "      <td>Alan Moore/David   Lloyd</td>\n",
       "    </tr>\n",
       "  </tbody>\n",
       "</table>\n",
       "</div>"
      ],
      "text/plain": [
       "   author_id                          author\n",
       "0          1                      A.S. Byatt\n",
       "1          2  Aesop/Laura Harris/Laura Gibbs\n",
       "2          3                 Agatha Christie\n",
       "3          4                   Alan Brennert\n",
       "4          5        Alan Moore/David   Lloyd"
      ]
     },
     "execution_count": 5,
     "metadata": {},
     "output_type": "execute_result"
    }
   ],
   "source": [
    "pd.io.sql.read_sql('''SELECT * \n",
    "                     FROM authors\n",
    "                     LIMIT 5''', con = engine) "
   ]
  },
  {
   "cell_type": "code",
   "execution_count": 6,
   "metadata": {},
   "outputs": [
    {
     "data": {
      "text/html": [
       "<div>\n",
       "<style scoped>\n",
       "    .dataframe tbody tr th:only-of-type {\n",
       "        vertical-align: middle;\n",
       "    }\n",
       "\n",
       "    .dataframe tbody tr th {\n",
       "        vertical-align: top;\n",
       "    }\n",
       "\n",
       "    .dataframe thead th {\n",
       "        text-align: right;\n",
       "    }\n",
       "</style>\n",
       "<table border=\"1\" class=\"dataframe\">\n",
       "  <thead>\n",
       "    <tr style=\"text-align: right;\">\n",
       "      <th></th>\n",
       "      <th>publisher_id</th>\n",
       "      <th>publisher</th>\n",
       "    </tr>\n",
       "  </thead>\n",
       "  <tbody>\n",
       "    <tr>\n",
       "      <th>0</th>\n",
       "      <td>1</td>\n",
       "      <td>Ace</td>\n",
       "    </tr>\n",
       "    <tr>\n",
       "      <th>1</th>\n",
       "      <td>2</td>\n",
       "      <td>Ace Book</td>\n",
       "    </tr>\n",
       "    <tr>\n",
       "      <th>2</th>\n",
       "      <td>3</td>\n",
       "      <td>Ace Books</td>\n",
       "    </tr>\n",
       "    <tr>\n",
       "      <th>3</th>\n",
       "      <td>4</td>\n",
       "      <td>Ace Hardcover</td>\n",
       "    </tr>\n",
       "    <tr>\n",
       "      <th>4</th>\n",
       "      <td>5</td>\n",
       "      <td>Addison Wesley Publishing Company</td>\n",
       "    </tr>\n",
       "  </tbody>\n",
       "</table>\n",
       "</div>"
      ],
      "text/plain": [
       "   publisher_id                          publisher\n",
       "0             1                                Ace\n",
       "1             2                           Ace Book\n",
       "2             3                          Ace Books\n",
       "3             4                      Ace Hardcover\n",
       "4             5  Addison Wesley Publishing Company"
      ]
     },
     "execution_count": 6,
     "metadata": {},
     "output_type": "execute_result"
    }
   ],
   "source": [
    "pd.io.sql.read_sql('''SELECT * \n",
    "                     FROM publishers\n",
    "                     LIMIT 5''', con = engine) "
   ]
  },
  {
   "cell_type": "code",
   "execution_count": 7,
   "metadata": {},
   "outputs": [
    {
     "data": {
      "text/html": [
       "<div>\n",
       "<style scoped>\n",
       "    .dataframe tbody tr th:only-of-type {\n",
       "        vertical-align: middle;\n",
       "    }\n",
       "\n",
       "    .dataframe tbody tr th {\n",
       "        vertical-align: top;\n",
       "    }\n",
       "\n",
       "    .dataframe thead th {\n",
       "        text-align: right;\n",
       "    }\n",
       "</style>\n",
       "<table border=\"1\" class=\"dataframe\">\n",
       "  <thead>\n",
       "    <tr style=\"text-align: right;\">\n",
       "      <th></th>\n",
       "      <th>rating_id</th>\n",
       "      <th>book_id</th>\n",
       "      <th>username</th>\n",
       "      <th>rating</th>\n",
       "    </tr>\n",
       "  </thead>\n",
       "  <tbody>\n",
       "    <tr>\n",
       "      <th>0</th>\n",
       "      <td>1</td>\n",
       "      <td>1</td>\n",
       "      <td>ryanfranco</td>\n",
       "      <td>4</td>\n",
       "    </tr>\n",
       "    <tr>\n",
       "      <th>1</th>\n",
       "      <td>2</td>\n",
       "      <td>1</td>\n",
       "      <td>grantpatricia</td>\n",
       "      <td>2</td>\n",
       "    </tr>\n",
       "    <tr>\n",
       "      <th>2</th>\n",
       "      <td>3</td>\n",
       "      <td>1</td>\n",
       "      <td>brandtandrea</td>\n",
       "      <td>5</td>\n",
       "    </tr>\n",
       "    <tr>\n",
       "      <th>3</th>\n",
       "      <td>4</td>\n",
       "      <td>2</td>\n",
       "      <td>lorichen</td>\n",
       "      <td>3</td>\n",
       "    </tr>\n",
       "    <tr>\n",
       "      <th>4</th>\n",
       "      <td>5</td>\n",
       "      <td>2</td>\n",
       "      <td>mariokeller</td>\n",
       "      <td>2</td>\n",
       "    </tr>\n",
       "  </tbody>\n",
       "</table>\n",
       "</div>"
      ],
      "text/plain": [
       "   rating_id  book_id       username  rating\n",
       "0          1        1     ryanfranco       4\n",
       "1          2        1  grantpatricia       2\n",
       "2          3        1   brandtandrea       5\n",
       "3          4        2       lorichen       3\n",
       "4          5        2    mariokeller       2"
      ]
     },
     "execution_count": 7,
     "metadata": {},
     "output_type": "execute_result"
    }
   ],
   "source": [
    "pd.io.sql.read_sql('''SELECT * \n",
    "                     FROM ratings\n",
    "                     LIMIT 5''', con = engine) "
   ]
  },
  {
   "cell_type": "code",
   "execution_count": 8,
   "metadata": {},
   "outputs": [
    {
     "data": {
      "text/html": [
       "<div>\n",
       "<style scoped>\n",
       "    .dataframe tbody tr th:only-of-type {\n",
       "        vertical-align: middle;\n",
       "    }\n",
       "\n",
       "    .dataframe tbody tr th {\n",
       "        vertical-align: top;\n",
       "    }\n",
       "\n",
       "    .dataframe thead th {\n",
       "        text-align: right;\n",
       "    }\n",
       "</style>\n",
       "<table border=\"1\" class=\"dataframe\">\n",
       "  <thead>\n",
       "    <tr style=\"text-align: right;\">\n",
       "      <th></th>\n",
       "      <th>review_id</th>\n",
       "      <th>book_id</th>\n",
       "      <th>username</th>\n",
       "      <th>text</th>\n",
       "    </tr>\n",
       "  </thead>\n",
       "  <tbody>\n",
       "    <tr>\n",
       "      <th>0</th>\n",
       "      <td>1</td>\n",
       "      <td>1</td>\n",
       "      <td>brandtandrea</td>\n",
       "      <td>Mention society tell send professor analysis. ...</td>\n",
       "    </tr>\n",
       "    <tr>\n",
       "      <th>1</th>\n",
       "      <td>2</td>\n",
       "      <td>1</td>\n",
       "      <td>ryanfranco</td>\n",
       "      <td>Foot glass pretty audience hit themselves. Amo...</td>\n",
       "    </tr>\n",
       "    <tr>\n",
       "      <th>2</th>\n",
       "      <td>3</td>\n",
       "      <td>2</td>\n",
       "      <td>lorichen</td>\n",
       "      <td>Listen treat keep worry. Miss husband tax but ...</td>\n",
       "    </tr>\n",
       "    <tr>\n",
       "      <th>3</th>\n",
       "      <td>4</td>\n",
       "      <td>3</td>\n",
       "      <td>johnsonamanda</td>\n",
       "      <td>Finally month interesting blue could nature cu...</td>\n",
       "    </tr>\n",
       "    <tr>\n",
       "      <th>4</th>\n",
       "      <td>5</td>\n",
       "      <td>3</td>\n",
       "      <td>scotttamara</td>\n",
       "      <td>Nation purpose heavy give wait song will. List...</td>\n",
       "    </tr>\n",
       "  </tbody>\n",
       "</table>\n",
       "</div>"
      ],
      "text/plain": [
       "   review_id  book_id       username  \\\n",
       "0          1        1   brandtandrea   \n",
       "1          2        1     ryanfranco   \n",
       "2          3        2       lorichen   \n",
       "3          4        3  johnsonamanda   \n",
       "4          5        3    scotttamara   \n",
       "\n",
       "                                                text  \n",
       "0  Mention society tell send professor analysis. ...  \n",
       "1  Foot glass pretty audience hit themselves. Amo...  \n",
       "2  Listen treat keep worry. Miss husband tax but ...  \n",
       "3  Finally month interesting blue could nature cu...  \n",
       "4  Nation purpose heavy give wait song will. List...  "
      ]
     },
     "execution_count": 8,
     "metadata": {},
     "output_type": "execute_result"
    }
   ],
   "source": [
    "\n",
    "pd.io.sql.read_sql('''SELECT * \n",
    "                     FROM reviews\n",
    "                     LIMIT 5''', con = engine) "
   ]
  },
  {
   "cell_type": "markdown",
   "metadata": {},
   "source": [
    "##  Найдем ответы на задания"
   ]
  },
  {
   "cell_type": "markdown",
   "metadata": {},
   "source": [
    "###  Посчитайте, сколько книг вышло после 1 января 2000 года"
   ]
  },
  {
   "cell_type": "code",
   "execution_count": 9,
   "metadata": {},
   "outputs": [
    {
     "data": {
      "text/html": [
       "<div>\n",
       "<style scoped>\n",
       "    .dataframe tbody tr th:only-of-type {\n",
       "        vertical-align: middle;\n",
       "    }\n",
       "\n",
       "    .dataframe tbody tr th {\n",
       "        vertical-align: top;\n",
       "    }\n",
       "\n",
       "    .dataframe thead th {\n",
       "        text-align: right;\n",
       "    }\n",
       "</style>\n",
       "<table border=\"1\" class=\"dataframe\">\n",
       "  <thead>\n",
       "    <tr style=\"text-align: right;\">\n",
       "      <th></th>\n",
       "      <th>count</th>\n",
       "    </tr>\n",
       "  </thead>\n",
       "  <tbody>\n",
       "    <tr>\n",
       "      <th>0</th>\n",
       "      <td>821</td>\n",
       "    </tr>\n",
       "  </tbody>\n",
       "</table>\n",
       "</div>"
      ],
      "text/plain": [
       "   count\n",
       "0    821"
      ]
     },
     "execution_count": 9,
     "metadata": {},
     "output_type": "execute_result"
    }
   ],
   "source": [
    "pd.io.sql.read_sql('''SELECT COUNT(book_id) \n",
    "                     FROM books\n",
    "                     WHERE EXTRACT(YEAR FROM CAST(publication_date AS date)) > 1999\n",
    "                     ''', con = engine) "
   ]
  },
  {
   "cell_type": "markdown",
   "metadata": {},
   "source": [
    "В нашем сервисе 821 книга, написанная после 1999 года. А так как всего 1000 книг, то можно сказать, что наш сервис в основном состоит из новых книг"
   ]
  },
  {
   "cell_type": "markdown",
   "metadata": {},
   "source": [
    "### Для каждой книги посчитайте количество обзоров и среднюю оценку"
   ]
  },
  {
   "cell_type": "code",
   "execution_count": 10,
   "metadata": {},
   "outputs": [
    {
     "data": {
      "text/html": [
       "<div>\n",
       "<style scoped>\n",
       "    .dataframe tbody tr th:only-of-type {\n",
       "        vertical-align: middle;\n",
       "    }\n",
       "\n",
       "    .dataframe tbody tr th {\n",
       "        vertical-align: top;\n",
       "    }\n",
       "\n",
       "    .dataframe thead th {\n",
       "        text-align: right;\n",
       "    }\n",
       "</style>\n",
       "<table border=\"1\" class=\"dataframe\">\n",
       "  <thead>\n",
       "    <tr style=\"text-align: right;\">\n",
       "      <th></th>\n",
       "      <th>book_id</th>\n",
       "      <th>title</th>\n",
       "      <th>quantity_reviews</th>\n",
       "      <th>rating</th>\n",
       "    </tr>\n",
       "  </thead>\n",
       "  <tbody>\n",
       "    <tr>\n",
       "      <th>0</th>\n",
       "      <td>1</td>\n",
       "      <td>'Salem's Lot</td>\n",
       "      <td>2</td>\n",
       "      <td>3.7</td>\n",
       "    </tr>\n",
       "    <tr>\n",
       "      <th>1</th>\n",
       "      <td>2</td>\n",
       "      <td>1 000 Places to See Before You Die</td>\n",
       "      <td>1</td>\n",
       "      <td>2.5</td>\n",
       "    </tr>\n",
       "    <tr>\n",
       "      <th>2</th>\n",
       "      <td>3</td>\n",
       "      <td>13 Little Blue Envelopes (Little Blue Envelope...</td>\n",
       "      <td>3</td>\n",
       "      <td>4.7</td>\n",
       "    </tr>\n",
       "    <tr>\n",
       "      <th>3</th>\n",
       "      <td>4</td>\n",
       "      <td>1491: New Revelations of the Americas Before C...</td>\n",
       "      <td>2</td>\n",
       "      <td>4.5</td>\n",
       "    </tr>\n",
       "    <tr>\n",
       "      <th>4</th>\n",
       "      <td>5</td>\n",
       "      <td>1776</td>\n",
       "      <td>4</td>\n",
       "      <td>4.0</td>\n",
       "    </tr>\n",
       "  </tbody>\n",
       "</table>\n",
       "</div>"
      ],
      "text/plain": [
       "   book_id                                              title  \\\n",
       "0        1                                       'Salem's Lot   \n",
       "1        2                 1 000 Places to See Before You Die   \n",
       "2        3  13 Little Blue Envelopes (Little Blue Envelope...   \n",
       "3        4  1491: New Revelations of the Americas Before C...   \n",
       "4        5                                               1776   \n",
       "\n",
       "   quantity_reviews  rating  \n",
       "0                 2     3.7  \n",
       "1                 1     2.5  \n",
       "2                 3     4.7  \n",
       "3                 2     4.5  \n",
       "4                 4     4.0  "
      ]
     },
     "execution_count": 10,
     "metadata": {},
     "output_type": "execute_result"
    }
   ],
   "source": [
    "pd.io.sql.read_sql('''SELECT\n",
    "                      b.book_id\n",
    "                     ,b.title\n",
    "                     ,COUNT(DISTINCT re.review_id) as quantity_reviews\n",
    "                     ,ROUND(AVG(r.rating), 1) as rating\n",
    "                     FROM books as b\n",
    "                     LEFT JOIN ratings AS  r ON b.book_id=r.book_id  \n",
    "                     LEFT JOIN reviews  AS re ON b.book_id = re.book_id\n",
    "                     GROUP BY b.book_id, b.title\n",
    "                     LIMIT 5\n",
    "                     \n",
    "                     ''', con = engine) "
   ]
  },
  {
   "cell_type": "markdown",
   "metadata": {},
   "source": [
    "В нашей базе пользователи пишут отзывы и ставят оценки книгам. Оценки сильно отличаются. Количество отзывов у первых 10 книг не превышает 4 штук"
   ]
  },
  {
   "cell_type": "markdown",
   "metadata": {},
   "source": [
    "### Определите издательство, которое выпустило наибольшее число книг толще 50 страниц — так вы исключите из анализа брошюры;"
   ]
  },
  {
   "cell_type": "code",
   "execution_count": 11,
   "metadata": {
    "scrolled": true
   },
   "outputs": [
    {
     "data": {
      "text/html": [
       "<div>\n",
       "<style scoped>\n",
       "    .dataframe tbody tr th:only-of-type {\n",
       "        vertical-align: middle;\n",
       "    }\n",
       "\n",
       "    .dataframe tbody tr th {\n",
       "        vertical-align: top;\n",
       "    }\n",
       "\n",
       "    .dataframe thead th {\n",
       "        text-align: right;\n",
       "    }\n",
       "</style>\n",
       "<table border=\"1\" class=\"dataframe\">\n",
       "  <thead>\n",
       "    <tr style=\"text-align: right;\">\n",
       "      <th></th>\n",
       "      <th>publisher</th>\n",
       "      <th>count</th>\n",
       "    </tr>\n",
       "  </thead>\n",
       "  <tbody>\n",
       "    <tr>\n",
       "      <th>0</th>\n",
       "      <td>Penguin Books</td>\n",
       "      <td>42</td>\n",
       "    </tr>\n",
       "  </tbody>\n",
       "</table>\n",
       "</div>"
      ],
      "text/plain": [
       "       publisher  count\n",
       "0  Penguin Books     42"
      ]
     },
     "execution_count": 11,
     "metadata": {},
     "output_type": "execute_result"
    }
   ],
   "source": [
    "pd.io.sql.read_sql('''SELECT p.publisher as publisher\n",
    "                     , COUNT( DISTINCT b.book_id)\n",
    "                     \n",
    "                     FROM publishers as p\n",
    "                     \n",
    "                     INNER JOIN books AS  b ON p.publisher_id=b.publisher_id  \n",
    "                     WHERE b.num_pages > 50\n",
    "                     GROUP BY p.publisher_id\n",
    "                     ORDER BY COUNT( DISTINCT b.book_id) DESC\n",
    "                     LIMIT 1\n",
    "                     ''', con = engine) "
   ]
  },
  {
   "cell_type": "markdown",
   "metadata": {},
   "source": [
    "Больше всего книг выпустило издательство Penguin Books\t- 42 книги"
   ]
  },
  {
   "cell_type": "markdown",
   "metadata": {},
   "source": [
    "\n",
    "### Определите автора с самой высокой средней оценкой книг — учитывайте только книги с 50 и более оценками;\n"
   ]
  },
  {
   "cell_type": "code",
   "execution_count": 12,
   "metadata": {
    "scrolled": true
   },
   "outputs": [
    {
     "data": {
      "text/html": [
       "<div>\n",
       "<style scoped>\n",
       "    .dataframe tbody tr th:only-of-type {\n",
       "        vertical-align: middle;\n",
       "    }\n",
       "\n",
       "    .dataframe tbody tr th {\n",
       "        vertical-align: top;\n",
       "    }\n",
       "\n",
       "    .dataframe thead th {\n",
       "        text-align: right;\n",
       "    }\n",
       "</style>\n",
       "<table border=\"1\" class=\"dataframe\">\n",
       "  <thead>\n",
       "    <tr style=\"text-align: right;\">\n",
       "      <th></th>\n",
       "      <th>author</th>\n",
       "      <th>book_rating</th>\n",
       "    </tr>\n",
       "  </thead>\n",
       "  <tbody>\n",
       "    <tr>\n",
       "      <th>0</th>\n",
       "      <td>J.K. Rowling/Mary GrandPré</td>\n",
       "      <td>4.28</td>\n",
       "    </tr>\n",
       "  </tbody>\n",
       "</table>\n",
       "</div>"
      ],
      "text/plain": [
       "                       author  book_rating\n",
       "0  J.K. Rowling/Mary GrandPré         4.28"
      ]
     },
     "execution_count": 12,
     "metadata": {},
     "output_type": "execute_result"
    }
   ],
   "source": [
    "pd.io.sql.read_sql(''' WITH chosen AS\n",
    "\n",
    "                       (SELECT \n",
    "                           b.book_id as book\n",
    "                         , b.author_id as author_id\n",
    "                         , AVG(r.rating) as rating_book\n",
    "                        FROM books as b\n",
    "                        LEFT JOIN ratings as r ON b.book_id=r.book_id\n",
    "                        GROUP BY b.book_id\n",
    "                        HAVING COUNT(DISTINCT r.rating_id) >= 50)\n",
    "                     \n",
    "                       SELECT   a.author\n",
    "                               , ROUND(AVG(chosen.rating_book),2) as book_rating\n",
    "                              \n",
    "                       FROM chosen\n",
    "                       LEFT JOIN authors as a ON chosen.author_id=a.author_id   \n",
    "                       GROUP BY a.author\n",
    "                       ORDER BY book_rating DESC\n",
    "                       LIMIT 1\n",
    "\n",
    "                      \n",
    "                     ''', con = engine) "
   ]
  },
  {
   "cell_type": "markdown",
   "metadata": {},
   "source": [
    "На первом месте по оценкам авторы \"Гарри Поттера\" J.K. Rowling/Mary GrandPré, их рейтинг около 4.3"
   ]
  },
  {
   "cell_type": "markdown",
   "metadata": {},
   "source": [
    "### Посчитайте среднее количество обзоров от пользователей, которые поставили больше 50 оценок."
   ]
  },
  {
   "cell_type": "code",
   "execution_count": 13,
   "metadata": {},
   "outputs": [
    {
     "data": {
      "text/html": [
       "<div>\n",
       "<style scoped>\n",
       "    .dataframe tbody tr th:only-of-type {\n",
       "        vertical-align: middle;\n",
       "    }\n",
       "\n",
       "    .dataframe tbody tr th {\n",
       "        vertical-align: top;\n",
       "    }\n",
       "\n",
       "    .dataframe thead th {\n",
       "        text-align: right;\n",
       "    }\n",
       "</style>\n",
       "<table border=\"1\" class=\"dataframe\">\n",
       "  <thead>\n",
       "    <tr style=\"text-align: right;\">\n",
       "      <th></th>\n",
       "      <th>round</th>\n",
       "    </tr>\n",
       "  </thead>\n",
       "  <tbody>\n",
       "    <tr>\n",
       "      <th>0</th>\n",
       "      <td>24.33</td>\n",
       "    </tr>\n",
       "  </tbody>\n",
       "</table>\n",
       "</div>"
      ],
      "text/plain": [
       "   round\n",
       "0  24.33"
      ]
     },
     "execution_count": 13,
     "metadata": {},
     "output_type": "execute_result"
    }
   ],
   "source": [
    "pd.io.sql.read_sql(''' WITH \n",
    "                        counter AS \n",
    "                        (SELECT   \n",
    "                        COUNT(re.review_id) as count\n",
    "                        FROM reviews as re\n",
    "                        WHERE re.username in\n",
    "                       \n",
    "                       (SELECT username\n",
    "                        FROM  ratings \n",
    "                        GROUP BY username\n",
    "                        HAVING COUNT(DISTINCT rating_id) > 50) \n",
    "                        \n",
    "                        GROUP BY re.username)\n",
    "                        \n",
    "                        SELECT ROUND(AVG(count), 2)\n",
    "                        FROM counter\n",
    "                           \n",
    "                    \n",
    "                     ''', con = engine) "
   ]
  },
  {
   "cell_type": "markdown",
   "metadata": {},
   "source": [
    "Те, кто ставят много оценок, пишут и много отзывов. Среднее число отзывов от тех, кто поставил больше 50 оценок - более 24"
   ]
  },
  {
   "cell_type": "markdown",
   "metadata": {},
   "source": [
    "## Выводы\n",
    "Мы провели первое короткое исследование базы данных о книжном сервисе. Выделили некоторые особенности представленных книг и поведения пользователей.\n",
    "\n",
    "Но для настоящего исследования не хватает id  пользователей, дат оставления оценок и отзывов, отдельно таблицы о пользователях - когда какую книги купили, когда зарегистрировались."
   ]
  }
 ],
 "metadata": {
  "ExecuteTimeLog": [
   {
    "duration": 5999,
    "start_time": "2022-12-16T13:49:13.181Z"
   },
   {
    "duration": 68,
    "start_time": "2022-12-16T13:50:45.196Z"
   },
   {
    "duration": 268,
    "start_time": "2022-12-16T13:51:44.280Z"
   },
   {
    "duration": 45,
    "start_time": "2022-12-16T13:52:32.949Z"
   },
   {
    "duration": 97,
    "start_time": "2022-12-16T13:52:42.387Z"
   },
   {
    "duration": 98,
    "start_time": "2022-12-16T14:14:39.728Z"
   },
   {
    "duration": 71,
    "start_time": "2022-12-16T14:14:58.791Z"
   },
   {
    "duration": 70,
    "start_time": "2022-12-16T14:15:37.881Z"
   },
   {
    "duration": 70,
    "start_time": "2022-12-16T14:16:19.281Z"
   },
   {
    "duration": 71,
    "start_time": "2022-12-16T14:16:54.877Z"
   },
   {
    "duration": 75,
    "start_time": "2022-12-16T14:17:15.148Z"
   },
   {
    "duration": 70,
    "start_time": "2022-12-16T14:27:12.099Z"
   },
   {
    "duration": 157,
    "start_time": "2022-12-16T14:28:23.458Z"
   },
   {
    "duration": 204,
    "start_time": "2022-12-16T14:28:54.813Z"
   },
   {
    "duration": 50,
    "start_time": "2022-12-16T22:30:05.468Z"
   },
   {
    "duration": 8189,
    "start_time": "2022-12-16T22:30:15.051Z"
   },
   {
    "duration": 56,
    "start_time": "2022-12-16T22:30:23.242Z"
   },
   {
    "duration": 13,
    "start_time": "2022-12-16T22:30:23.300Z"
   },
   {
    "duration": 13,
    "start_time": "2022-12-16T22:30:23.315Z"
   },
   {
    "duration": 13,
    "start_time": "2022-12-16T22:30:23.330Z"
   },
   {
    "duration": 12,
    "start_time": "2022-12-16T22:30:23.344Z"
   },
   {
    "duration": 10,
    "start_time": "2022-12-16T22:30:23.358Z"
   },
   {
    "duration": 16,
    "start_time": "2022-12-16T22:30:23.370Z"
   },
   {
    "duration": 166,
    "start_time": "2022-12-16T22:31:01.458Z"
   },
   {
    "duration": 22,
    "start_time": "2022-12-16T22:31:05.185Z"
   },
   {
    "duration": 16,
    "start_time": "2022-12-16T22:31:32.805Z"
   },
   {
    "duration": 94,
    "start_time": "2022-12-16T22:36:16.906Z"
   },
   {
    "duration": 91,
    "start_time": "2022-12-16T22:36:53.480Z"
   },
   {
    "duration": 30,
    "start_time": "2022-12-16T22:37:05.225Z"
   },
   {
    "duration": 25,
    "start_time": "2022-12-16T22:37:35.046Z"
   },
   {
    "duration": 24,
    "start_time": "2022-12-16T22:38:00.319Z"
   },
   {
    "duration": 24,
    "start_time": "2022-12-16T22:39:40.897Z"
   },
   {
    "duration": 88,
    "start_time": "2022-12-16T22:47:02.779Z"
   },
   {
    "duration": 114,
    "start_time": "2022-12-16T22:47:15.947Z"
   },
   {
    "duration": 90,
    "start_time": "2022-12-16T22:47:30.904Z"
   },
   {
    "duration": 13,
    "start_time": "2022-12-16T22:48:26.256Z"
   },
   {
    "duration": 88,
    "start_time": "2022-12-16T22:49:12.072Z"
   },
   {
    "duration": 86,
    "start_time": "2022-12-16T22:51:02.777Z"
   },
   {
    "duration": 12,
    "start_time": "2022-12-16T22:51:42.944Z"
   },
   {
    "duration": 12,
    "start_time": "2022-12-16T22:51:53.022Z"
   },
   {
    "duration": 120,
    "start_time": "2022-12-16T22:55:38.899Z"
   },
   {
    "duration": 98,
    "start_time": "2022-12-16T22:55:56.537Z"
   },
   {
    "duration": 105,
    "start_time": "2022-12-16T22:56:16.606Z"
   },
   {
    "duration": 8717,
    "start_time": "2022-12-16T22:56:30.335Z"
   },
   {
    "duration": 44,
    "start_time": "2022-12-16T22:56:39.054Z"
   },
   {
    "duration": 11,
    "start_time": "2022-12-16T22:56:39.099Z"
   },
   {
    "duration": 11,
    "start_time": "2022-12-16T22:56:39.112Z"
   },
   {
    "duration": 13,
    "start_time": "2022-12-16T22:56:39.125Z"
   },
   {
    "duration": 16,
    "start_time": "2022-12-16T22:56:39.140Z"
   },
   {
    "duration": 15,
    "start_time": "2022-12-16T22:56:39.158Z"
   },
   {
    "duration": 27,
    "start_time": "2022-12-16T22:56:39.175Z"
   },
   {
    "duration": 172,
    "start_time": "2022-12-16T22:56:39.203Z"
   },
   {
    "duration": 134,
    "start_time": "2022-12-16T22:57:39.669Z"
   },
   {
    "duration": 97,
    "start_time": "2022-12-16T22:57:56.053Z"
   },
   {
    "duration": 13,
    "start_time": "2022-12-16T22:58:17.868Z"
   },
   {
    "duration": 13,
    "start_time": "2022-12-16T22:59:29.013Z"
   },
   {
    "duration": 11,
    "start_time": "2022-12-16T22:59:35.416Z"
   },
   {
    "duration": 17,
    "start_time": "2022-12-16T23:08:25.802Z"
   },
   {
    "duration": 110,
    "start_time": "2022-12-16T23:17:57.043Z"
   },
   {
    "duration": 97,
    "start_time": "2022-12-16T23:18:07.915Z"
   },
   {
    "duration": 98,
    "start_time": "2022-12-16T23:18:46.158Z"
   },
   {
    "duration": 34,
    "start_time": "2022-12-16T23:19:21.059Z"
   },
   {
    "duration": 31,
    "start_time": "2022-12-16T23:20:34.185Z"
   },
   {
    "duration": 98,
    "start_time": "2022-12-16T23:25:01.151Z"
   },
   {
    "duration": 116,
    "start_time": "2022-12-16T23:28:49.334Z"
   },
   {
    "duration": 28,
    "start_time": "2022-12-16T23:29:41.963Z"
   },
   {
    "duration": 133,
    "start_time": "2022-12-16T23:30:20.293Z"
   },
   {
    "duration": 31,
    "start_time": "2022-12-16T23:30:51.174Z"
   },
   {
    "duration": 32,
    "start_time": "2022-12-16T23:31:14.249Z"
   },
   {
    "duration": 31,
    "start_time": "2022-12-16T23:32:02.626Z"
   },
   {
    "duration": 30,
    "start_time": "2022-12-16T23:32:22.444Z"
   },
   {
    "duration": 2,
    "start_time": "2022-12-16T23:37:39.549Z"
   },
   {
    "duration": 19,
    "start_time": "2022-12-16T23:43:34.072Z"
   },
   {
    "duration": 15,
    "start_time": "2022-12-16T23:44:51.997Z"
   },
   {
    "duration": 12,
    "start_time": "2022-12-16T23:47:29.524Z"
   },
   {
    "duration": 14,
    "start_time": "2022-12-16T23:47:40.442Z"
   },
   {
    "duration": 20,
    "start_time": "2022-12-16T23:49:16.260Z"
   },
   {
    "duration": 17,
    "start_time": "2022-12-16T23:49:34.581Z"
   },
   {
    "duration": 8548,
    "start_time": "2022-12-16T23:57:40.431Z"
   },
   {
    "duration": 68,
    "start_time": "2022-12-16T23:57:48.983Z"
   },
   {
    "duration": 16,
    "start_time": "2022-12-16T23:57:49.053Z"
   },
   {
    "duration": 12,
    "start_time": "2022-12-16T23:57:49.072Z"
   },
   {
    "duration": 16,
    "start_time": "2022-12-16T23:57:49.086Z"
   },
   {
    "duration": 16,
    "start_time": "2022-12-16T23:57:49.104Z"
   },
   {
    "duration": 39,
    "start_time": "2022-12-16T23:57:49.122Z"
   },
   {
    "duration": 16,
    "start_time": "2022-12-16T23:57:49.164Z"
   },
   {
    "duration": 13,
    "start_time": "2022-12-16T23:57:49.181Z"
   },
   {
    "duration": 21,
    "start_time": "2022-12-16T23:57:49.196Z"
   },
   {
    "duration": 30,
    "start_time": "2022-12-16T23:57:49.219Z"
   },
   {
    "duration": 11639,
    "start_time": "2022-12-17T14:20:15.387Z"
   },
   {
    "duration": 52,
    "start_time": "2022-12-17T14:20:27.029Z"
   },
   {
    "duration": 12,
    "start_time": "2022-12-17T14:20:27.084Z"
   },
   {
    "duration": 11,
    "start_time": "2022-12-17T14:20:27.098Z"
   },
   {
    "duration": 13,
    "start_time": "2022-12-17T14:20:27.111Z"
   },
   {
    "duration": 25,
    "start_time": "2022-12-17T14:20:27.125Z"
   },
   {
    "duration": 12,
    "start_time": "2022-12-17T14:20:27.152Z"
   },
   {
    "duration": 16,
    "start_time": "2022-12-17T14:20:27.166Z"
   },
   {
    "duration": 12,
    "start_time": "2022-12-17T14:20:27.184Z"
   },
   {
    "duration": 15,
    "start_time": "2022-12-17T14:20:27.198Z"
   },
   {
    "duration": 28,
    "start_time": "2022-12-17T14:20:27.215Z"
   },
   {
    "duration": 28,
    "start_time": "2022-12-17T14:20:58.510Z"
   },
   {
    "duration": 18,
    "start_time": "2022-12-17T14:21:00.589Z"
   },
   {
    "duration": 18,
    "start_time": "2022-12-17T14:22:10.015Z"
   },
   {
    "duration": 16,
    "start_time": "2022-12-17T14:22:13.587Z"
   },
   {
    "duration": 45,
    "start_time": "2022-12-17T14:37:14.414Z"
   },
   {
    "duration": 8077,
    "start_time": "2022-12-17T14:37:22.072Z"
   },
   {
    "duration": 43,
    "start_time": "2022-12-17T14:37:30.151Z"
   },
   {
    "duration": 11,
    "start_time": "2022-12-17T14:37:30.196Z"
   },
   {
    "duration": 14,
    "start_time": "2022-12-17T14:37:30.208Z"
   },
   {
    "duration": 16,
    "start_time": "2022-12-17T14:37:30.223Z"
   },
   {
    "duration": 15,
    "start_time": "2022-12-17T14:37:30.240Z"
   },
   {
    "duration": 17,
    "start_time": "2022-12-17T14:37:30.256Z"
   },
   {
    "duration": 159,
    "start_time": "2022-12-17T14:37:30.275Z"
   },
   {
    "duration": 0,
    "start_time": "2022-12-17T14:37:30.436Z"
   },
   {
    "duration": 0,
    "start_time": "2022-12-17T14:37:30.437Z"
   },
   {
    "duration": 0,
    "start_time": "2022-12-17T14:37:30.438Z"
   },
   {
    "duration": 95,
    "start_time": "2022-12-17T14:39:34.754Z"
   },
   {
    "duration": 88,
    "start_time": "2022-12-17T14:39:38.325Z"
   },
   {
    "duration": 8249,
    "start_time": "2022-12-17T14:39:46.407Z"
   },
   {
    "duration": 39,
    "start_time": "2022-12-17T14:39:54.658Z"
   },
   {
    "duration": 10,
    "start_time": "2022-12-17T14:39:54.699Z"
   },
   {
    "duration": 10,
    "start_time": "2022-12-17T14:39:54.711Z"
   },
   {
    "duration": 11,
    "start_time": "2022-12-17T14:39:54.724Z"
   },
   {
    "duration": 18,
    "start_time": "2022-12-17T14:39:54.737Z"
   },
   {
    "duration": 10,
    "start_time": "2022-12-17T14:39:54.756Z"
   },
   {
    "duration": 191,
    "start_time": "2022-12-17T14:39:54.768Z"
   },
   {
    "duration": 0,
    "start_time": "2022-12-17T14:39:54.961Z"
   },
   {
    "duration": 0,
    "start_time": "2022-12-17T14:39:54.962Z"
   },
   {
    "duration": 0,
    "start_time": "2022-12-17T14:39:54.964Z"
   },
   {
    "duration": 96,
    "start_time": "2022-12-17T14:46:48.058Z"
   },
   {
    "duration": 123,
    "start_time": "2022-12-17T15:55:44.911Z"
   },
   {
    "duration": 109,
    "start_time": "2022-12-17T15:56:11.180Z"
   },
   {
    "duration": 33,
    "start_time": "2022-12-17T15:56:21.094Z"
   },
   {
    "duration": 39,
    "start_time": "2022-12-17T15:58:00.143Z"
   },
   {
    "duration": 32,
    "start_time": "2022-12-17T15:58:29.599Z"
   },
   {
    "duration": 32,
    "start_time": "2022-12-17T15:59:48.815Z"
   },
   {
    "duration": 537,
    "start_time": "2022-12-17T16:00:05.952Z"
   },
   {
    "duration": 3,
    "start_time": "2022-12-17T16:00:06.491Z"
   },
   {
    "duration": 8189,
    "start_time": "2022-12-17T16:00:06.496Z"
   },
   {
    "duration": 44,
    "start_time": "2022-12-17T16:00:14.687Z"
   },
   {
    "duration": 10,
    "start_time": "2022-12-17T16:00:14.732Z"
   },
   {
    "duration": 20,
    "start_time": "2022-12-17T16:00:14.744Z"
   },
   {
    "duration": 12,
    "start_time": "2022-12-17T16:00:14.767Z"
   },
   {
    "duration": 11,
    "start_time": "2022-12-17T16:00:14.781Z"
   },
   {
    "duration": 10,
    "start_time": "2022-12-17T16:00:14.794Z"
   },
   {
    "duration": 35,
    "start_time": "2022-12-17T16:00:14.806Z"
   },
   {
    "duration": 13,
    "start_time": "2022-12-17T16:00:14.843Z"
   },
   {
    "duration": 18,
    "start_time": "2022-12-17T16:00:14.863Z"
   },
   {
    "duration": 31,
    "start_time": "2022-12-17T16:00:14.883Z"
   },
   {
    "duration": 31,
    "start_time": "2022-12-17T16:00:57.827Z"
   },
   {
    "duration": 22,
    "start_time": "2022-12-17T16:01:58.371Z"
   },
   {
    "duration": 21,
    "start_time": "2022-12-17T16:02:21.597Z"
   },
   {
    "duration": 157,
    "start_time": "2022-12-17T16:02:53.400Z"
   },
   {
    "duration": 14,
    "start_time": "2022-12-17T16:03:05.533Z"
   },
   {
    "duration": 14,
    "start_time": "2022-12-17T16:03:29.002Z"
   },
   {
    "duration": 25,
    "start_time": "2022-12-17T16:04:53.036Z"
   },
   {
    "duration": 24,
    "start_time": "2022-12-17T16:05:34.058Z"
   },
   {
    "duration": 24,
    "start_time": "2022-12-17T16:05:40.644Z"
   },
   {
    "duration": 32,
    "start_time": "2022-12-17T16:06:25.544Z"
   },
   {
    "duration": 17,
    "start_time": "2022-12-17T16:08:18.222Z"
   },
   {
    "duration": 108,
    "start_time": "2022-12-17T16:24:45.894Z"
   },
   {
    "duration": 108,
    "start_time": "2022-12-17T17:02:11.477Z"
   },
   {
    "duration": 48,
    "start_time": "2022-12-17T22:00:01.361Z"
   },
   {
    "duration": 548,
    "start_time": "2022-12-17T22:00:08.631Z"
   },
   {
    "duration": 3,
    "start_time": "2022-12-17T22:00:09.181Z"
   },
   {
    "duration": 7682,
    "start_time": "2022-12-17T22:00:09.186Z"
   },
   {
    "duration": 56,
    "start_time": "2022-12-17T22:00:16.870Z"
   },
   {
    "duration": 14,
    "start_time": "2022-12-17T22:00:16.929Z"
   },
   {
    "duration": 13,
    "start_time": "2022-12-17T22:00:16.945Z"
   },
   {
    "duration": 22,
    "start_time": "2022-12-17T22:00:16.960Z"
   },
   {
    "duration": 12,
    "start_time": "2022-12-17T22:00:16.984Z"
   },
   {
    "duration": 10,
    "start_time": "2022-12-17T22:00:16.998Z"
   },
   {
    "duration": 27,
    "start_time": "2022-12-17T22:00:17.009Z"
   },
   {
    "duration": 17,
    "start_time": "2022-12-17T22:00:17.038Z"
   },
   {
    "duration": 149,
    "start_time": "2022-12-17T22:00:17.056Z"
   },
   {
    "duration": 0,
    "start_time": "2022-12-17T22:00:17.207Z"
   },
   {
    "duration": 20,
    "start_time": "2022-12-17T22:00:59.956Z"
   },
   {
    "duration": 17,
    "start_time": "2022-12-17T22:02:18.652Z"
   },
   {
    "duration": 21,
    "start_time": "2022-12-17T22:02:35.585Z"
   },
   {
    "duration": 19,
    "start_time": "2022-12-17T22:02:43.276Z"
   },
   {
    "duration": 20,
    "start_time": "2022-12-17T22:05:56.450Z"
   },
   {
    "duration": 19,
    "start_time": "2022-12-17T22:06:49.733Z"
   },
   {
    "duration": 17,
    "start_time": "2022-12-17T22:07:54.102Z"
   },
   {
    "duration": 15,
    "start_time": "2022-12-17T22:08:09.555Z"
   },
   {
    "duration": 15,
    "start_time": "2022-12-17T22:08:24.751Z"
   },
   {
    "duration": 16,
    "start_time": "2022-12-17T22:08:57.641Z"
   },
   {
    "duration": 15,
    "start_time": "2022-12-17T22:10:16.594Z"
   },
   {
    "duration": 16,
    "start_time": "2022-12-17T22:16:03.665Z"
   },
   {
    "duration": 14,
    "start_time": "2022-12-17T23:11:30.770Z"
   },
   {
    "duration": 92,
    "start_time": "2022-12-17T23:20:23.335Z"
   },
   {
    "duration": 94,
    "start_time": "2022-12-17T23:20:51.300Z"
   },
   {
    "duration": 102,
    "start_time": "2022-12-17T23:21:08.424Z"
   },
   {
    "duration": 92,
    "start_time": "2022-12-17T23:21:25.480Z"
   },
   {
    "duration": 51,
    "start_time": "2022-12-18T11:05:30.474Z"
   },
   {
    "duration": 583,
    "start_time": "2022-12-18T11:05:37.878Z"
   },
   {
    "duration": 4,
    "start_time": "2022-12-18T11:05:38.465Z"
   },
   {
    "duration": 5889,
    "start_time": "2022-12-18T11:05:38.471Z"
   },
   {
    "duration": 257,
    "start_time": "2022-12-18T11:05:44.362Z"
   },
   {
    "duration": 73,
    "start_time": "2022-12-18T11:05:44.620Z"
   },
   {
    "duration": 72,
    "start_time": "2022-12-18T11:05:44.695Z"
   },
   {
    "duration": 77,
    "start_time": "2022-12-18T11:05:44.769Z"
   },
   {
    "duration": 87,
    "start_time": "2022-12-18T11:05:44.848Z"
   },
   {
    "duration": 74,
    "start_time": "2022-12-18T11:05:44.936Z"
   },
   {
    "duration": 107,
    "start_time": "2022-12-18T11:05:45.012Z"
   },
   {
    "duration": 76,
    "start_time": "2022-12-18T11:05:45.121Z"
   },
   {
    "duration": 88,
    "start_time": "2022-12-18T11:05:45.198Z"
   },
   {
    "duration": 94,
    "start_time": "2022-12-18T11:05:45.287Z"
   },
   {
    "duration": 192,
    "start_time": "2022-12-18T11:05:45.382Z"
   },
   {
    "duration": 133,
    "start_time": "2022-12-18T11:07:40.081Z"
   },
   {
    "duration": 136,
    "start_time": "2022-12-18T11:08:40.875Z"
   },
   {
    "duration": 158,
    "start_time": "2022-12-18T11:08:59.437Z"
   },
   {
    "duration": 129,
    "start_time": "2022-12-18T11:09:56.051Z"
   },
   {
    "duration": 79,
    "start_time": "2022-12-18T11:10:18.121Z"
   },
   {
    "duration": 80,
    "start_time": "2022-12-18T11:11:19.083Z"
   },
   {
    "duration": 78,
    "start_time": "2022-12-18T11:13:43.903Z"
   },
   {
    "duration": 162,
    "start_time": "2022-12-18T11:14:08.591Z"
   },
   {
    "duration": 308,
    "start_time": "2022-12-18T11:14:13.764Z"
   },
   {
    "duration": 145,
    "start_time": "2022-12-18T11:14:41.641Z"
   },
   {
    "duration": 78,
    "start_time": "2022-12-18T11:14:50.128Z"
   },
   {
    "duration": 141,
    "start_time": "2022-12-18T11:16:32.779Z"
   },
   {
    "duration": 155,
    "start_time": "2022-12-18T11:16:59.032Z"
   },
   {
    "duration": 142,
    "start_time": "2022-12-18T11:17:07.932Z"
   },
   {
    "duration": 80,
    "start_time": "2022-12-18T11:20:40.164Z"
   },
   {
    "duration": 134,
    "start_time": "2022-12-18T11:21:02.987Z"
   },
   {
    "duration": 75,
    "start_time": "2022-12-18T11:21:29.516Z"
   },
   {
    "duration": 76,
    "start_time": "2022-12-18T11:24:56.539Z"
   },
   {
    "duration": 78,
    "start_time": "2022-12-18T11:25:15.617Z"
   },
   {
    "duration": 131,
    "start_time": "2022-12-18T11:35:18.774Z"
   },
   {
    "duration": 133,
    "start_time": "2022-12-18T11:35:39.419Z"
   },
   {
    "duration": 127,
    "start_time": "2022-12-18T11:36:13.517Z"
   },
   {
    "duration": 77,
    "start_time": "2022-12-18T11:36:35.416Z"
   },
   {
    "duration": 76,
    "start_time": "2022-12-18T11:42:17.417Z"
   },
   {
    "duration": 142,
    "start_time": "2022-12-18T11:43:30.215Z"
   },
   {
    "duration": 143,
    "start_time": "2022-12-18T11:46:28.512Z"
   },
   {
    "duration": 124,
    "start_time": "2022-12-18T11:47:17.933Z"
   },
   {
    "duration": 142,
    "start_time": "2022-12-18T11:58:36.151Z"
   },
   {
    "duration": 126,
    "start_time": "2022-12-18T11:58:40.061Z"
   },
   {
    "duration": 137,
    "start_time": "2022-12-18T11:59:08.219Z"
   },
   {
    "duration": 149,
    "start_time": "2022-12-18T12:00:11.809Z"
   },
   {
    "duration": 136,
    "start_time": "2022-12-18T12:00:36.430Z"
   },
   {
    "duration": 143,
    "start_time": "2022-12-18T12:01:00.167Z"
   },
   {
    "duration": 98,
    "start_time": "2022-12-18T12:01:16.059Z"
   },
   {
    "duration": 79,
    "start_time": "2022-12-18T12:02:48.209Z"
   },
   {
    "duration": 76,
    "start_time": "2022-12-18T12:03:09.623Z"
   },
   {
    "duration": 83,
    "start_time": "2022-12-18T12:03:48.666Z"
   },
   {
    "duration": 81,
    "start_time": "2022-12-18T12:04:05.311Z"
   },
   {
    "duration": 85,
    "start_time": "2022-12-18T12:04:13.616Z"
   },
   {
    "duration": 161,
    "start_time": "2022-12-18T12:04:37.912Z"
   },
   {
    "duration": 131,
    "start_time": "2022-12-18T12:04:45.640Z"
   },
   {
    "duration": 87,
    "start_time": "2022-12-18T12:04:55.222Z"
   },
   {
    "duration": 307,
    "start_time": "2022-12-18T12:05:01.944Z"
   },
   {
    "duration": 81,
    "start_time": "2022-12-18T12:05:47.549Z"
   },
   {
    "duration": 78,
    "start_time": "2022-12-18T12:06:40.165Z"
   },
   {
    "duration": 89,
    "start_time": "2022-12-18T12:06:57.966Z"
   },
   {
    "duration": 81,
    "start_time": "2022-12-18T12:07:17.325Z"
   },
   {
    "duration": 501,
    "start_time": "2022-12-18T12:10:05.930Z"
   },
   {
    "duration": 3,
    "start_time": "2022-12-18T12:10:06.433Z"
   },
   {
    "duration": 5301,
    "start_time": "2022-12-18T12:10:06.437Z"
   },
   {
    "duration": 274,
    "start_time": "2022-12-18T12:10:11.740Z"
   },
   {
    "duration": 73,
    "start_time": "2022-12-18T12:10:12.016Z"
   },
   {
    "duration": 73,
    "start_time": "2022-12-18T12:10:12.091Z"
   },
   {
    "duration": 74,
    "start_time": "2022-12-18T12:10:12.166Z"
   },
   {
    "duration": 78,
    "start_time": "2022-12-18T12:10:12.242Z"
   },
   {
    "duration": 72,
    "start_time": "2022-12-18T12:10:12.322Z"
   },
   {
    "duration": 104,
    "start_time": "2022-12-18T12:10:12.396Z"
   },
   {
    "duration": 72,
    "start_time": "2022-12-18T12:10:12.501Z"
   },
   {
    "duration": 76,
    "start_time": "2022-12-18T12:10:12.575Z"
   },
   {
    "duration": 76,
    "start_time": "2022-12-18T12:10:12.653Z"
   },
   {
    "duration": 616,
    "start_time": "2022-12-18T22:21:37.410Z"
   },
   {
    "duration": 4,
    "start_time": "2022-12-18T22:21:38.028Z"
   },
   {
    "duration": 12903,
    "start_time": "2022-12-18T22:21:38.033Z"
   },
   {
    "duration": 160,
    "start_time": "2022-12-18T22:21:50.939Z"
   },
   {
    "duration": 14,
    "start_time": "2022-12-18T22:21:51.101Z"
   },
   {
    "duration": 15,
    "start_time": "2022-12-18T22:21:51.117Z"
   },
   {
    "duration": 16,
    "start_time": "2022-12-18T22:21:51.134Z"
   },
   {
    "duration": 41,
    "start_time": "2022-12-18T22:21:51.154Z"
   },
   {
    "duration": 13,
    "start_time": "2022-12-18T22:21:51.197Z"
   },
   {
    "duration": 35,
    "start_time": "2022-12-18T22:21:51.212Z"
   },
   {
    "duration": 38,
    "start_time": "2022-12-18T22:21:51.249Z"
   },
   {
    "duration": 19,
    "start_time": "2022-12-18T22:21:51.289Z"
   },
   {
    "duration": 19,
    "start_time": "2022-12-18T22:21:51.310Z"
   },
   {
    "duration": 44,
    "start_time": "2022-12-19T08:02:11.640Z"
   },
   {
    "duration": 486,
    "start_time": "2022-12-19T08:02:19.000Z"
   },
   {
    "duration": 3,
    "start_time": "2022-12-19T08:02:19.488Z"
   },
   {
    "duration": 7854,
    "start_time": "2022-12-19T08:02:19.492Z"
   },
   {
    "duration": 50,
    "start_time": "2022-12-19T08:02:27.348Z"
   },
   {
    "duration": 9,
    "start_time": "2022-12-19T08:02:27.400Z"
   },
   {
    "duration": 31,
    "start_time": "2022-12-19T08:02:27.411Z"
   },
   {
    "duration": 17,
    "start_time": "2022-12-19T08:02:27.443Z"
   },
   {
    "duration": 24,
    "start_time": "2022-12-19T08:02:27.462Z"
   },
   {
    "duration": 25,
    "start_time": "2022-12-19T08:02:27.488Z"
   },
   {
    "duration": 36,
    "start_time": "2022-12-19T08:02:27.515Z"
   },
   {
    "duration": 13,
    "start_time": "2022-12-19T08:02:27.553Z"
   },
   {
    "duration": 15,
    "start_time": "2022-12-19T08:02:27.568Z"
   },
   {
    "duration": 27,
    "start_time": "2022-12-19T08:02:27.585Z"
   },
   {
    "duration": 160,
    "start_time": "2022-12-19T08:04:34.964Z"
   },
   {
    "duration": 99,
    "start_time": "2022-12-19T08:04:55.639Z"
   },
   {
    "duration": 91,
    "start_time": "2022-12-19T08:06:02.479Z"
   },
   {
    "duration": 95,
    "start_time": "2022-12-19T08:06:27.309Z"
   },
   {
    "duration": 107,
    "start_time": "2022-12-19T08:17:26.043Z"
   },
   {
    "duration": 90,
    "start_time": "2022-12-19T08:17:54.466Z"
   },
   {
    "duration": 17,
    "start_time": "2022-12-19T08:18:02.495Z"
   },
   {
    "duration": 101,
    "start_time": "2022-12-19T08:20:01.350Z"
   },
   {
    "duration": 18,
    "start_time": "2022-12-19T08:20:25.485Z"
   },
   {
    "duration": 15,
    "start_time": "2022-12-19T08:22:16.137Z"
   },
   {
    "duration": 18,
    "start_time": "2022-12-19T08:22:29.497Z"
   },
   {
    "duration": 529,
    "start_time": "2022-12-19T08:23:29.873Z"
   },
   {
    "duration": 3,
    "start_time": "2022-12-19T08:23:30.404Z"
   },
   {
    "duration": 8150,
    "start_time": "2022-12-19T08:23:30.409Z"
   },
   {
    "duration": 58,
    "start_time": "2022-12-19T08:23:38.561Z"
   },
   {
    "duration": 11,
    "start_time": "2022-12-19T08:23:38.621Z"
   },
   {
    "duration": 10,
    "start_time": "2022-12-19T08:23:38.633Z"
   },
   {
    "duration": 13,
    "start_time": "2022-12-19T08:23:38.645Z"
   },
   {
    "duration": 11,
    "start_time": "2022-12-19T08:23:38.659Z"
   },
   {
    "duration": 24,
    "start_time": "2022-12-19T08:23:38.672Z"
   },
   {
    "duration": 39,
    "start_time": "2022-12-19T08:23:38.699Z"
   },
   {
    "duration": 20,
    "start_time": "2022-12-19T08:23:38.740Z"
   },
   {
    "duration": 28,
    "start_time": "2022-12-19T08:23:38.762Z"
   },
   {
    "duration": 16,
    "start_time": "2022-12-19T08:23:38.792Z"
   }
  ],
  "kernelspec": {
   "display_name": "Python 3 (ipykernel)",
   "language": "python",
   "name": "python3"
  },
  "language_info": {
   "codemirror_mode": {
    "name": "ipython",
    "version": 3
   },
   "file_extension": ".py",
   "mimetype": "text/x-python",
   "name": "python",
   "nbconvert_exporter": "python",
   "pygments_lexer": "ipython3",
   "version": "3.9.12"
  },
  "toc": {
   "base_numbering": 1,
   "nav_menu": {},
   "number_sections": true,
   "sideBar": true,
   "skip_h1_title": true,
   "title_cell": "Table of Contents",
   "title_sidebar": "Contents",
   "toc_cell": false,
   "toc_position": {},
   "toc_section_display": true,
   "toc_window_display": false
  }
 },
 "nbformat": 4,
 "nbformat_minor": 2
}
